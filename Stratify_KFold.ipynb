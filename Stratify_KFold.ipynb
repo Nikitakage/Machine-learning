{
 "cells": [
  {
   "cell_type": "code",
   "execution_count": null,
   "id": "5e344f81",
   "metadata": {},
   "outputs": [],
   "source": [
    "import pandas as pd\n",
    "import numpy as np\n",
    "from sklearn.model_selection import cross_val_score\n",
    "from sklearn.model_selection import cross_val_predict"
   ]
  },
  {
   "cell_type": "code",
   "execution_count": null,
   "id": "5401643b",
   "metadata": {},
   "outputs": [],
   "source": [
    "data=pd.read_csv(r\"D:\\Machine learning dataset\\Social_Network_Ads.csv\")\n",
    "data"
   ]
  },
  {
   "cell_type": "code",
   "execution_count": null,
   "id": "b8769a6d",
   "metadata": {},
   "outputs": [],
   "source": [
    "x=data.iloc[:,:-1].values\n",
    "y=data.iloc[:,-1].values"
   ]
  },
  {
   "cell_type": "code",
   "execution_count": null,
   "id": "0bb2f9b2",
   "metadata": {},
   "outputs": [],
   "source": [
    "ad=data.loc[(data[\"Purchased\"]==1)]\n",
    "ad"
   ]
  },
  {
   "cell_type": "code",
   "execution_count": null,
   "id": "af6b7926",
   "metadata": {},
   "outputs": [],
   "source": [
    "A=data.iloc[[0,1,7,16],:-1]\n",
    "A"
   ]
  },
  {
   "cell_type": "code",
   "execution_count": null,
   "id": "04b7af80",
   "metadata": {},
   "outputs": [],
   "source": [
    "B=data.iloc[[0,1,395,396],-1]\n",
    "B"
   ]
  },
  {
   "cell_type": "code",
   "execution_count": null,
   "id": "c6434f89",
   "metadata": {},
   "outputs": [],
   "source": [
    "y"
   ]
  },
  {
   "cell_type": "code",
   "execution_count": null,
   "id": "61da081f",
   "metadata": {},
   "outputs": [],
   "source": [
    "from sklearn.model_selection import StratifiedKFold\n",
    "sf=StratifiedKFold(n_splits=2,random_state=10, shuffle=True)\n",
    "sf.get_n_splits(x,y)\n",
    "print(sf)\n"
   ]
  },
  {
   "cell_type": "code",
   "execution_count": null,
   "id": "69586e4e",
   "metadata": {},
   "outputs": [],
   "source": [
    "from sklearn.linear_model import LogisticRegression\n",
    "l1=LogisticRegression()"
   ]
  },
  {
   "cell_type": "code",
   "execution_count": null,
   "id": "2e340ec6",
   "metadata": {
    "scrolled": false
   },
   "outputs": [],
   "source": [
    "for train_index,test_index in sf.split(x,y):\n",
    "    print(\"TRAIN: \",train_index,\"TEST: \",test_index)\n",
    "    x_train,x_test=x[train_index], x[test_index]\n",
    "    y_train,y_test=y[train_index], y[test_index]\n",
    "    score=cross_val_score(l1,x_train,y_train,cv=sf)\n",
    "    print(\"Score: \",score)\n",
    "    print(\"Mean: \",np.mean(score)*100)\n",
    "    y_pred=cross_val_predict(l1,x_test,y_test,cv=sf)\n",
    "    print(\"Prediction: \",y_pred)\n",
    "    (unique,counts)=np.unique(y_test,return_counts=True)\n",
    "    frequencies=np.asarray((unique,counts))\n",
    "    print(frequencies)"
   ]
  },
  {
   "cell_type": "code",
   "execution_count": null,
   "id": "c0dcdcc0",
   "metadata": {},
   "outputs": [],
   "source": [
    "y1=cross_val_predict(l1,A,B,cv=sf)\n",
    "print(\"Prediction: \",y1)"
   ]
  },
  {
   "cell_type": "code",
   "execution_count": null,
   "id": "f6cb7eef",
   "metadata": {},
   "outputs": [],
   "source": [
    "from sklearn.metrics import confusion_matrix\n",
    "cm = confusion_matrix(y_test, y_pred)\n",
    "print(cm)"
   ]
  },
  {
   "cell_type": "code",
   "execution_count": null,
   "id": "5b8bbba7",
   "metadata": {},
   "outputs": [],
   "source": [
    "from sklearn.metrics import accuracy_score,confusion_matrix,classification_report\n",
    "ac = accuracy_score(y_test,y_pred)*100\n",
    "cm = confusion_matrix(y_test,y_pred)\n",
    "# cr = classification_report(y_pred,y_test)\n",
    "print(\"Accuracy score:\",ac)\n",
    "print(\"**********************************************\")\n",
    "\n",
    "print(\"Confusion matrix:\")\n",
    "print(cm)\n",
    "print(\"**********************************************\")\n",
    "\n",
    "# print(\"classification report:\")\n",
    "# print(cr)\n"
   ]
  },
  {
   "cell_type": "code",
   "execution_count": null,
   "id": "96f19d93",
   "metadata": {},
   "outputs": [],
   "source": []
  },
  {
   "cell_type": "code",
   "execution_count": null,
   "id": "3f91833a",
   "metadata": {},
   "outputs": [],
   "source": []
  }
 ],
 "metadata": {
  "kernelspec": {
   "display_name": "Python 3 (ipykernel)",
   "language": "python",
   "name": "python3"
  },
  "language_info": {
   "codemirror_mode": {
    "name": "ipython",
    "version": 3
   },
   "file_extension": ".py",
   "mimetype": "text/x-python",
   "name": "python",
   "nbconvert_exporter": "python",
   "pygments_lexer": "ipython3",
   "version": "3.9.12"
  }
 },
 "nbformat": 4,
 "nbformat_minor": 5
}
